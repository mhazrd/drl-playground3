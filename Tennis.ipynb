{
 "cells": [
  {
   "cell_type": "markdown",
   "metadata": {},
   "source": [
    "# Collaboration and Competition\n",
    "\n",
    "\n",
    "### Introduction\n",
    "\n",
    "Unity ML-agent library has a lot of simulation evnrionments to test intelligent agent models. \n",
    "This notebook solves one of the envrionnment which simulates a simple **Tennis** game.\n",
    "The task is to move 2 rackets/players appropriately to keep balls within the tennis court.\n",
    "Each time the ball crosses the tennis net towards the opponent side, the player gets a reward of +0.1, and if the ball hits the ground or moves outside of the court, the reward is -0.01. Therefore, a player should play well to pass a ball towards the other player to get a chance of high score.\n",
    "The code uses a Deep Deterministic Policy Gradient model (DDPG) to learn a behavior to gain as many scores as possible. Although there are 2 agents, their situation is symmetric, so DDPG can be applied to both agents simultaneously.\n",
    "All the code is self contained in a notebook for a potential modification of any logic. \n",
    "Each component is separated to its own cell, so it can be easily written to a separate file using \"%writefile\" if necessary\n",
    "\n",
    "---\n",
    "\n",
    "\n",
    "### 1. Environment\n",
    "#### Requirements\n",
    "- Linux based OS\n",
    "- Python (dependency is listed in requirements.txt)\n",
    "- [Linux Tennis environment](https://s3-us-west-1.amazonaws.com/udacity-drlnd/P3/Tennis/Tennis_Linux.zip)\n",
    "\n",
    "The following code will import modules and packages required to train and evaluate a Actor/Critic models with DDPG algorithm"
   ]
  },
  {
   "cell_type": "code",
   "execution_count": null,
   "metadata": {},
   "outputs": [],
   "source": [
    "import math\n",
    "import torch\n",
    "import torch.nn as nn\n",
    "import torch.optim as optim\n",
    "import torch.nn.functional as F\n",
    "import pandas as pd\n",
    "import matplotlib.pyplot as plt\n",
    "from collections import deque\n",
    "import pandas as pd\n",
    "import matplotlib.pyplot as plt"
   ]
  },
  {
   "cell_type": "code",
   "execution_count": 2,
   "metadata": {},
   "outputs": [
    {
     "name": "stderr",
     "output_type": "stream",
     "text": [
      "INFO:unityagents:\n",
      "'Academy' started successfully!\n",
      "Unity Academy name: Academy\n",
      "        Number of Brains: 1\n",
      "        Number of External Brains : 1\n",
      "        Lesson number : 0\n",
      "        Reset Parameters :\n",
      "\t\t\n",
      "Unity brain name: TennisBrain\n",
      "        Number of Visual Observations (per agent): 0\n",
      "        Vector Observation space type: continuous\n",
      "        Vector Observation space size (per agent): 8\n",
      "        Number of stacked Vector Observation: 3\n",
      "        Vector Action space type: continuous\n",
      "        Vector Action space size (per agent): 2\n",
      "        Vector Action descriptions: , \n"
     ]
    }
   ],
   "source": [
    "from unityagents import UnityEnvironment\n",
    "import numpy as np\n",
    "\n",
    "env = UnityEnvironment(file_name=\"./Tennis_Linux/Tennis.x86_64\")"
   ]
  },
  {
   "cell_type": "code",
   "execution_count": 3,
   "metadata": {},
   "outputs": [],
   "source": [
    "# get the default brain\n",
    "brain_name = env.brain_names[0]\n",
    "brain = env.brains[brain_name]"
   ]
  },
  {
   "cell_type": "markdown",
   "metadata": {},
   "source": [
    "#### The environment spec\n",
    "- Number of agent: 2\n",
    "- State space: 24 dimensional vector (for each agent)\n",
    "- Action space: 2 numbers of range [-1, 1]\n",
    "- Reward: +0.1 (If the ball crooses the net towards the opponent side), -0.01 (If the ball hits the ground or moves outside of the net)"
   ]
  },
  {
   "cell_type": "code",
   "execution_count": 4,
   "metadata": {},
   "outputs": [
    {
     "name": "stdout",
     "output_type": "stream",
     "text": [
      "Number of agents: 2\n",
      "Size of each action: 2\n",
      "There are 2 agents. Each observes a state with length: 24\n",
      "The state for the first agent looks like: [ 0.          0.          0.          0.          0.          0.          0.\n",
      "  0.          0.          0.          0.          0.          0.          0.\n",
      "  0.          0.         -6.65278625 -1.5        -0.          0.\n",
      "  6.83172083  6.         -0.          0.        ]\n"
     ]
    }
   ],
   "source": [
    "# reset the environment\n",
    "env_info = env.reset(train_mode=True)[brain_name]\n",
    "\n",
    "# number of agents \n",
    "num_agents = len(env_info.agents)\n",
    "print('Number of agents:', num_agents)\n",
    "\n",
    "# size of each action\n",
    "action_size = brain.vector_action_space_size\n",
    "print('Size of each action:', action_size)\n",
    "\n",
    "# examine the state space \n",
    "states = env_info.vector_observations\n",
    "state_size = states.shape[1]\n",
    "print('There are {} agents. Each observes a state with length: {}'.format(states.shape[0], state_size))\n",
    "print('The state for the first agent looks like:', states[0])"
   ]
  },
  {
   "cell_type": "markdown",
   "metadata": {},
   "source": [
    "### 2. Implementation\n",
    "\n",
    "#### ActorModel\n",
    "- **Description**\n",
    "    - Standard fully-connected NN with a Batchnorm layer and ReLU activation. This model is used to model the deterministic policy, so it outputs 2-dimensional continous action vectors.\n",
    "- **Architecture**\n",
    "    - 3 Hidden layers (256, 256, 64 nodes)\n",
    "    - 1 Output layer (2 nodes)\n",
    "    - Each hidden layer uses ReLU and Batchnorm1d\n",
    "    - Final output layer is a single linear layer with tanh activation to conform to the action value range\n",
    "- **Discussion**\n",
    "    - The initial hidden layer expanded the number of nodes for exploring rich feature space\n",
    "    - ReLU and Batchnorm layer are used for stable training\n",
    "    - Final output layer is combined with tanh to generate action of a correct range\n",
    "    - 2 Hidden layers couldn't simulate a complex playing behavior, so it's increased to 3 layers\n",
    "    - PyTorch 0.4 linear layer's initialization was too simple, so it's changed for better optimization. \n",
    " \n",
    "#### CriticModel\n",
    "- **Description**\n",
    "    - A fully-connected NN which combines a state and action to generate Q value for a given state, action pair.\n",
    "- **Architecture**\n",
    "    - 3 Hidden layers (512, 256, 128 nodes)\n",
    "    - 1 Output layer (1 node)\n",
    "    - Each hidden layer uses ReLU except for action feature embedding\n",
    "    - Final output layer is a single linear layer without any activation function\n",
    "- **Discussion**\n",
    "    - To deal with different characteristics of state and action, they're embedded to the first hidden layer separately\n",
    "        - The first hidden layer 512 nodes are divided according to the ratio of state and action dimensions (24 to 2)\n",
    "    - The initial hidden layer expanded the number of nodes for exploring rich feature space\n",
    "    - Architecture hyperparmeters are decided with experiments\n",
    "    - Final output layer directly generates an action value\n",
    " \n",
    "\n",
    "#### Buffer\n",
    "- **Description**\n",
    "    - Replay buffer used in a DDPG algorithm. It is a standard deque with a sampling function\n",
    "- **Interface**\n",
    "    - Initialization\n",
    "        - sz: Replay buffer size\n",
    "        - pf: Probability function for sampling\n",
    "    - put(obj): Stored obj in a replay buffer\n",
    "    - sample(n): Sample n objects from a replay buffer\n",
    "    - update_pf(pf): Update the probability function pf\n",
    "- **Discussion**\n",
    "    - Each agent's experience is stored without any differentiation because agent's situation is symmetric\n",
    "    - pf can be used for prioritized experience replay\n",
    "    - It was used to explore the potential benefit of the skew in experience sampling, but was default to uniform sampling"
   ]
  },
  {
   "cell_type": "code",
   "execution_count": 6,
   "metadata": {},
   "outputs": [],
   "source": [
    "device = 'cuda' if torch.cuda.is_available() else 'cpu'"
   ]
  },
  {
   "cell_type": "code",
   "execution_count": 7,
   "metadata": {},
   "outputs": [],
   "source": [
    "class ActorModel(nn.Module):\n",
    "    def __init__(self, nfs = [24, 256, 256, 64, 2]):# [24, 256, 128, 2]):\n",
    "        super().__init__()\n",
    "        self.nfs = nfs\n",
    "        \n",
    "        dr = nn.Dropout()\n",
    "        layers = [nn.BatchNorm1d(self.nfs[0])]\n",
    "        for nif, nof in zip(self.nfs[:-2], self.nfs[1:-1]):\n",
    "            layers.append(nn.Linear(nif, nof))\n",
    "            layers.append(nn.ReLU())\n",
    "            layers.append(nn.BatchNorm1d(nof))\n",
    "#             layers.append(dr)\n",
    "        layers = layers[:-1]\n",
    "    \n",
    "        # Weight initialization\n",
    "        for i in [1, 4, 7]:\n",
    "            nn.init.kaiming_uniform_(layers[i].weight, a=math.sqrt(5))\n",
    "        \n",
    "        self.layers = nn.Sequential(*layers)\n",
    "        self.olin = nn.Linear(self.nfs[-2], self.nfs[-1])\n",
    "  \n",
    "    \n",
    "    def forward(self, x):\n",
    "        f = self.layers(x)\n",
    "        actions = F.tanh(self.olin(f))\n",
    "        \n",
    "        return actions"
   ]
  },
  {
   "cell_type": "code",
   "execution_count": 8,
   "metadata": {},
   "outputs": [],
   "source": [
    "class CriticModel(nn.Module):\n",
    "    def __init__(self, nfs = [512, 256, 128, 1], ns=24, na=2):\n",
    "        super().__init__()\n",
    "        self.nfs = nfs\n",
    "        self.ns = ns\n",
    "        self.na = na\n",
    "        \n",
    "        dr = nn.Dropout()\n",
    "        \n",
    "        num_state_fs = int(self.nfs[0] * self.ns /(self.ns+self.na))\n",
    "        num_act_fs = self.nfs[0] - num_state_fs\n",
    "        \n",
    "        self.state_fs = nn.Sequential(\n",
    "#             nn.BatchNorm1d(self.ns), \n",
    "            nn.Linear(self.ns, num_state_fs),\n",
    "            nn.ReLU(),\n",
    "            nn.BatchNorm1d(num_state_fs)\n",
    "        )\n",
    "        self.act_fs = nn.Sequential(\n",
    "            nn.Linear(self.na, num_act_fs),\n",
    "#             nn.ReLU(),\n",
    "#             nn.BatchNorm1d(num_act_fs)\n",
    "        )\n",
    "        \n",
    "        layers = []\n",
    "        for nif, nof in zip(self.nfs[:-2], self.nfs[1:-1]):\n",
    "            layers.append(nn.Linear(nif, nof))\n",
    "            layers.append(nn.ReLU())\n",
    "            layers.append(nn.BatchNorm1d(nof))\n",
    "#             layers.append(dr)\n",
    "        layers = layers[:-1]\n",
    "    \n",
    "        # Weight initialization\n",
    "        nn.init.kaiming_uniform_(self.state_fs[0].weight, a=math.sqrt(5))\n",
    "        nn.init.kaiming_uniform_(self.act_fs[0].weight, a=math.sqrt(5))\n",
    "        nn.init.kaiming_uniform_(layers[0].weight, a=math.sqrt(5))\n",
    "        nn.init.kaiming_uniform_(layers[3].weight, a=math.sqrt(5))\n",
    "        \n",
    "        self.layers = nn.Sequential(*layers)\n",
    "        self.olin = nn.Linear(self.nfs[-2], self.nfs[-1])\n",
    "    \n",
    "    def forward(self, x, a):\n",
    "        xf = self.state_fs(x)\n",
    "        af = self.act_fs(a)\n",
    "        f = self.layers(torch.cat((xf, af), 1))\n",
    "        values = self.olin(f)\n",
    "        \n",
    "        return values"
   ]
  },
  {
   "cell_type": "code",
   "execution_count": 9,
   "metadata": {},
   "outputs": [],
   "source": [
    "class Buffer:\n",
    "    def __init__(self, sz=50000, exp_sz=20, pf=lambda x: 1):\n",
    "        self.buf = deque(maxlen=sz)\n",
    "        self.px = deque(maxlen=sz)\n",
    "        self.temp = []\n",
    "        self.pf = pf\n",
    "        \n",
    "        self.exp_sz = exp_sz\n",
    "        self.prev_sars = None         # 2 X 12 (position states in 3 steps)\n",
    "\n",
    "    def update_pf(self, pf=lambda x: 1):\n",
    "        self.pf = pf\n",
    "            \n",
    "    def put(self, sars):\n",
    "        for i in [0, 1]:\n",
    "            self.temp.append([arr[i:i+1] for arr in sars])\n",
    "        if sars[2][0, 0] != 0 or sars[2][1, 0] != 0:\n",
    "            self.buf.extend(self.temp)\n",
    "            self.px.extend([self.pf(x) for x in range(-len(self.temp) + 1, 1)])\n",
    "            self.temp.clear()\n",
    "    \n",
    "    def sample(self, n=64):\n",
    "        bufsz = len(self.buf)\n",
    "        assert bufsz == len(self.px)\n",
    "        n = bufsz if bufsz <= n else n\n",
    "        idxs = np.random.choice(range(bufsz), n, replace=False, p=(self.px / np.sum(self.px)))\n",
    "        samples = [self.buf[i] for i in idxs]\n",
    "        \n",
    "        states, actions, rewards, nstates, dones = zip(*samples)\n",
    "        return states, actions, rewards, nstates, dones\n",
    "    \n",
    "    def __len__(self):\n",
    "        return len(self.buf)\n",
    "    \n",
    "    def clear(self):\n",
    "        self.temp = []\n",
    "        self.prev_sars = None"
   ]
  },
  {
   "cell_type": "markdown",
   "metadata": {},
   "source": [
    "#### Training\n",
    "- **Description**\n",
    "    - Standard DDPG training algorithm\n",
    "    - Both agents share a same actor and critic network because the learning situation is the same for both agents\n",
    "- **Detail**\n",
    "    1. Initialize the models(2 actors, 2 critics) and hyperparameters\n",
    "    2. The current-actor-model (agent) interacts with the Tennis Unity environment to collect tuples (state, action, reward, next-state)\n",
    "        1. The actor model decides actions for both agents simultaneously \n",
    "        2. Exploration in continuous space is implemented using a Gaussian noise. The noise's standard deviation is controlled by an epsilon parameter\n",
    "        3. Due to the probabilistic nature of the noise, the action is clipped to range [-1, 1]\n",
    "    3. The collected tuples (experiences) are stored in a replay buffer\n",
    "    4. The experience is randomly batch-sampled every 20 steps(\"train_step\") and used to train the NN model\n",
    "        1. There is no agent differentiation on the stored experience because red-player's experience can help blue-player in an exact same way.\n",
    "        2. The training procedure follows a standard DDPG algorithm\n",
    "            1. Current-critic-model is trained with TD-update using Target-actor/critic-models\n",
    "            2. Current-actor model is trained with Q value using Current-critic-model\n",
    "            3. Target-actor/critic-models are soft-updated with current models using a small mixture ratio(tau)\n",
    "    5. 2-4 are repeated until the average score(return) reaches the objective score (13)\n",
    "- **Hyperparameters**\n",
    "\n",
    "|name|value|description|\n",
    "|--|--|--|\n",
    "|n_episodes|5000|Max number of episodes to explore|\n",
    "|max_t|3000|Max number of time steps of each episode|\n",
    "|bn|256|Training single batch size|\n",
    "|gamma|0.99|Return discounting factor|\n",
    "|eps, eps_decay|0.25, 0.995|Parameter to control noise standard deviation (for exploration) |\n",
    "|tau, tau_decay, tau_min|0.001, 0.9999, 0.001|Target network soft-update parameters|\n",
    "|train_step|20|Frequency of the training|\n",
    "|train_cnt|10|Number of gradient-updates in a single training procedure|"
   ]
  },
  {
   "cell_type": "code",
   "execution_count": 10,
   "metadata": {},
   "outputs": [],
   "source": [
    "n_episodes = 5000#240\n",
    "max_t = 3000\n",
    "bn = 256#128\n",
    "\n",
    "gamma = 0.99\n",
    "eps = 0.25\n",
    "eps_decay = 0.995; #eps_min=0.01\n",
    "tau = 0.001\n",
    "tau_decay = 0.9999; tau_min=0.001\n",
    "train_step = 20; train_cnt = 10"
   ]
  },
  {
   "cell_type": "code",
   "execution_count": 11,
   "metadata": {},
   "outputs": [
    {
     "name": "stdout",
     "output_type": "stream",
     "text": [
      "Episode no: 49, Average score: 0.01\n",
      "Episode no: 99, Average score: 0.00\n",
      "Episode no: 149, Average score: 0.00\n",
      "Episode no: 199, Average score: 0.00\n",
      "Episode no: 249, Average score: 0.00\n",
      "Episode no: 299, Average score: 0.00\n",
      "Episode no: 349, Average score: 0.00\n",
      "Episode no: 399, Average score: 0.01\n",
      "Episode no: 449, Average score: 0.01\n",
      "Episode no: 499, Average score: 0.01\n",
      "Episode no: 549, Average score: 0.04\n",
      "Episode no: 599, Average score: 0.07\n",
      "Episode no: 649, Average score: 0.10\n",
      "Episode no: 699, Average score: 0.11\n",
      "Episode no: 749, Average score: 0.13\n",
      "Episode no: 799, Average score: 0.25\n",
      "Episode no: 849, Average score: 0.62\n",
      "Episode no: 899, Average score: 0.51\n",
      "Episode no: 949, Average score: 0.14\n",
      "Episode no: 999, Average score: 0.35\n",
      "Episode no: 1049, Average score: 0.56\n",
      "Episode no: 1099, Average score: 0.38\n",
      "Episode no: 1149, Average score: 0.26\n",
      "Episode no: 1199, Average score: 0.29\n",
      "Episode no: 1249, Average score: 0.38\n",
      "Episode no: 1299, Average score: 0.64\n",
      "Episode no: 1349, Average score: 0.67\n",
      "Episode no: 1399, Average score: 0.61\n",
      "Models are saved and training is finished\n",
      "Total score (averaged over agents) this episode: 0.6000000089406967\n",
      "CPU times: user 56min 18s, sys: 4min 17s, total: 1h 36s\n",
      "Wall time: 1h 33s\n"
     ]
    }
   ],
   "source": [
    "%%time\n",
    "actor_current = ActorModel().to(device)\n",
    "actor_target = ActorModel().to(device)\n",
    "critic_current = CriticModel().to(device)\n",
    "critic_target = CriticModel().to(device)\n",
    "\n",
    "replay_buf = Buffer(pf=lambda x: 1)\n",
    "\n",
    "total_scores = []\n",
    "actor_opt = optim.Adam(actor_current.parameters())\n",
    "critic_opt = optim.Adam(critic_current.parameters())\n",
    "\n",
    "\n",
    "\n",
    "for i in range(n_episodes):\n",
    "    if i % 50 == 49:\n",
    "        avg_score = np.mean(total_scores[-100:])\n",
    "        print(f\"Episode no: {i}, Average score: {avg_score:.2f}\")\n",
    "\n",
    "        if avg_score >= 0.5 and np.mean(total_scores[-10:]) >= 0.5:\n",
    "            torch.save(actor_current.state_dict(), \"a_current.pth\")\n",
    "            torch.save(actor_target.state_dict(), \"a_target.pth\")\n",
    "            torch.save(critic_current.state_dict(), \"c_current.pth\")\n",
    "            torch.save(critic_target.state_dict(), \"c_target.pth\")\n",
    "            print(\"Models are saved and training is finished\")\n",
    "            break\n",
    "        \n",
    "    env_info = env.reset(train_mode=True)[brain_name]     # reset the environment    \n",
    "    states = env_info.vector_observations                  # get the current state (for each agent)\n",
    "    scores = np.zeros(num_agents)                          # initialize the score (for each agent)\n",
    "        \n",
    "    for t in range(max_t):\n",
    "        sts = torch.from_numpy(states).float().to(device)\n",
    "        \n",
    "        #####################################################\n",
    "        # Interact with environment (eps: exploration ratio)\n",
    "        #####################################################\n",
    "        actor_current.eval()\n",
    "        with torch.no_grad():\n",
    "            actions = actor_current(sts) # sts: 2 x 24\n",
    "            actions += (eps * torch.randn(actions.shape, device=device))\n",
    "            actions = torch.clamp(actions, -1, 1).detach().cpu().numpy()\n",
    "        actor_current.train()\n",
    "        \n",
    "        env_info = env.step(actions)[brain_name]           # send all actions to tne environment\n",
    "        next_states = env_info.vector_observations         # get next state (for each agent)\n",
    "        rewards = env_info.rewards                         # get reward (for each agent)\n",
    "        dones = env_info.local_done                        # see if episode finished\n",
    "        \n",
    "        \n",
    "        replay_buf.put([states, actions, np.array(rewards).reshape(-1, 1), \n",
    "                        next_states, np.array(dones).reshape(-1, 1)])\n",
    "            \n",
    "            \n",
    "            \n",
    "        ###########################################################\n",
    "        # Training (Actor-loss: Q-value, Critic-loss: MSE)\n",
    "        ########################################################### \n",
    "        if t % train_step == 0 and len(replay_buf) >= 2*bn:\n",
    "            for k in range(train_cnt):\n",
    "                ss, aa, rr, nss, ds = [torch.tensor(arr, dtype=torch.float, device=device).view(len(arr), -1) \n",
    "                                   for arr in replay_buf.sample(bn)]\n",
    "                \n",
    "                # Critic Current Model\n",
    "                na = actor_target(nss)\n",
    "                nq = critic_target(nss, na)\n",
    "\n",
    "                curq = critic_current(ss, aa)\n",
    "                tgtq = rr + (gamma * nq * (1 - ds))\n",
    "\n",
    "                loss = F.mse_loss(curq, tgtq)\n",
    "                critic_opt.zero_grad()\n",
    "                loss.backward()\n",
    "                nn.utils.clip_grad_norm_(critic_current.parameters(), 1) # new\n",
    "                critic_opt.step()\n",
    "\n",
    "\n",
    "                # Actor Current Model\n",
    "                na = actor_current(ss)\n",
    "#                 nq = critic_target(ss, na)\n",
    "                nq = critic_current(ss, na)\n",
    "                loss = -nq.mean()\n",
    "                actor_opt.zero_grad()\n",
    "                loss.backward()\n",
    "                actor_opt.step()\n",
    "\n",
    "                # Target Model\n",
    "                mixr = np.max([tau, tau_min])\n",
    "                for tparam, cparam in zip(actor_target.parameters(), actor_current.parameters()):\n",
    "                    tparam.data.copy_(mixr * cparam.data + (1-mixr) * tparam.data)\n",
    "                for tparam, cparam in zip(critic_target.parameters(), critic_current.parameters()):\n",
    "                    tparam.data.copy_(mixr * cparam.data + (1-mixr) * tparam.data)\n",
    "                tau *= tau_decay\n",
    "        \n",
    "        scores += env_info.rewards                         # update the score (for each agent)\n",
    "        states = next_states                               # roll over states to next time step\n",
    "        \n",
    "        if np.any(dones):                                  # exit loop if episode finished\n",
    "            replay_buf.clear()\n",
    "            break\n",
    "                        \n",
    "    eps *= eps_decay\n",
    "    total_scores.append(np.max(scores))\n",
    "                        \n",
    "                        \n",
    "print('Total score (averaged over agents) this episode: {}'.format(np.max(scores)))"
   ]
  },
  {
   "cell_type": "markdown",
   "metadata": {},
   "source": [
    "### 3. Results"
   ]
  },
  {
   "cell_type": "markdown",
   "metadata": {},
   "source": [
    "The following 2 charts show the winner's score (max of 2 agents) in each episode and the 100-episode average of winner-scores <br>"
   ]
  },
  {
   "cell_type": "markdown",
   "metadata": {},
   "source": [
    "A few interesting observations are"
   ]
  },
  {
   "cell_type": "markdown",
   "metadata": {},
   "source": [
    "- The score is very variant in each episode. This might mean that the agent didn't understand all aspects of games yet, so it only specialised in a specific game situation.\n",
    "- Although there is often a collapse in the performance. It recovers and shows a general upward trend as the agents experience more episodes. This could mean that the network architecture and training procedure was appropriate to meet the objective of +0.5 (100-episode average score) and could improve more if it keeps learning."
   ]
  },
  {
   "cell_type": "code",
   "execution_count": 12,
   "metadata": {},
   "outputs": [
    {
     "data": {
      "text/plain": [
       "[<matplotlib.lines.Line2D at 0x7f9c3b740780>]"
      ]
     },
     "execution_count": 12,
     "metadata": {},
     "output_type": "execute_result"
    },
    {
     "data": {
      "image/png": "[encoded data removed]",
      "text/plain": [
       "<matplotlib.figure.Figure at 0x7f9c81f6b320>"
      ]
     },
     "metadata": {
      "needs_background": "light"
     },
     "output_type": "display_data"
    }
   ],
   "source": [
    "plt.plot(total_scores)"
   ]
  },
  {
   "cell_type": "code",
   "execution_count": 13,
   "metadata": {},
   "outputs": [
    {
     "data": {
      "text/plain": [
       "Text(0,0.5,'Score')"
      ]
     },
     "execution_count": 13,
     "metadata": {},
     "output_type": "execute_result"
    },
    {
     "data": {
      "image/png": "[encoded data removed]",
      "text/plain": [
       "<matplotlib.figure.Figure at 0x7f9c81f78828>"
      ]
     },
     "metadata": {
      "needs_background": "light"
     },
     "output_type": "display_data"
    }
   ],
   "source": [
    "pd.Series(total_scores).rolling(100).mean().plot()\n",
    "plt.title(\"Average of one agent's max score over 100 episodes\")\n",
    "plt.xlabel(\"# episodes\")\n",
    "plt.ylabel(\"Score\")"
   ]
  },
  {
   "cell_type": "markdown",
   "metadata": {},
   "source": [
    "#### Agent Testing"
   ]
  },
  {
   "cell_type": "code",
   "execution_count": 15,
   "metadata": {},
   "outputs": [
    {
     "name": "stdout",
     "output_type": "stream",
     "text": [
      "Total score (averaged over agents) this episode: 0.1450000023469329\n",
      "Total score (averaged over agents) this episode: 0.7450000112876296\n",
      "Total score (averaged over agents) this episode: 0.8450000127777457\n",
      "Total score (averaged over agents) this episode: 0.1450000023469329\n",
      "Total score (averaged over agents) this episode: 0.3450000053271651\n"
     ]
    }
   ],
   "source": [
    "actor_current.load_state_dict(torch.load('a_current.pth'))\n",
    "actor_network = actor_current\n",
    "\n",
    "for i in range(5):                                         # play game for 5 episodes\n",
    "    env_info = env.reset(train_mode=False)[brain_name]     # reset the environment    \n",
    "    states = env_info.vector_observations                  # get the current state (for each agent)\n",
    "    scores = np.zeros(num_agents)                          # initialize the score (for each agent)\n",
    "    \n",
    "    for t in range(max_t):\n",
    "        sts = torch.tensor(states, dtype=torch.float, device=device)\n",
    "\n",
    "        actor_network.eval()\n",
    "        with torch.no_grad():\n",
    "            actions = actor_network(sts).detach().cpu().numpy()\n",
    "        actor_network.train()\n",
    "        \n",
    "        env_info = env.step(actions)[brain_name]           # send all actions to tne environment\n",
    "        next_states = env_info.vector_observations         # get next state (for each agent)\n",
    "        rewards = env_info.rewards                         # get reward (for each agent)\n",
    "        dones = env_info.local_done                        # see if episode finished\n",
    "        scores += env_info.rewards                         # update the score (for each agent)\n",
    "        states = next_states                               # roll over states to next time step\n",
    "        if np.any(dones):                                  # exit loop if episode finished\n",
    "            break\n",
    "    print('Total score (averaged over agents) this episode: {}'.format(np.mean(scores)))"
   ]
  },
  {
   "cell_type": "markdown",
   "metadata": {},
   "source": [
    "When finished, you can close the environment."
   ]
  },
  {
   "cell_type": "code",
   "execution_count": null,
   "metadata": {},
   "outputs": [],
   "source": [
    "env.close()"
   ]
  },
  {
   "cell_type": "markdown",
   "metadata": {},
   "source": [
    "### 4. Future work"
   ]
  },
  {
   "cell_type": "markdown",
   "metadata": {},
   "source": [
    "1. A lot of experiments on 2-hidden-layer network didn't show a good result and 3-hidden-layer network required a proper selection on its architecture hyperparameters. This can show a potential improvement using a different NN architecture. For example, Sequence Model could be helpful to understand the game history and might improve or stabilise the agent training.\n",
    "\n",
    "2. In DDPG algorithm, the actor network could be trained with Q-value estimate of critic-current or critic-target network. It seems like critic-target creates a slower but more smooth training, but this can be validated further to improve the training procedure.\n",
    "\n",
    "3. It's unclear yet what triggers the collapse of the scores. Some Hypotheses are:\n",
    "    - NN training failure. New experience completely wiped NN's knowledge\n",
    "    - The game situation could be adverse against what NN specialised in\n",
    "   The situation can be debugged in more detail, which will help pinpoint the potential pitfall of training and can help avoid such a collapse during training"
   ]
  }
 ],
 "metadata": {
  "kernelspec": {
   "display_name": "Python 3",
   "language": "python",
   "name": "python3"
  },
  "language_info": {
   "codemirror_mode": {
    "name": "ipython",
    "version": 3
   },
   "file_extension": ".py",
   "mimetype": "text/x-python",
   "name": "python",
   "nbconvert_exporter": "python",
   "pygments_lexer": "ipython3",
   "version": "3.6.10"
  }
 },
 "nbformat": 4,
 "nbformat_minor": 2
}
